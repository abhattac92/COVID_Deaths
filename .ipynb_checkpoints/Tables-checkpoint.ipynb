{
 "cells": [
  {
   "cell_type": "code",
   "execution_count": 1,
   "metadata": {
    "colab": {
     "base_uri": "https://localhost:8080/",
     "height": 238
    },
    "id": "3dTOusRZxbEF",
    "outputId": "0e06376a-ce5c-4cd0-d6ee-142c95599c4d"
   },
   "outputs": [
    {
     "name": "stdout",
     "output_type": "stream",
     "text": [
      "/bin/sh: apt-get: command not found\n",
      "/bin/sh: apt-get: command not found\n",
      "/bin/sh: wget: command not found\n",
      "tar: Error opening archive: Failed to open 'spark-2.4.7-bin-hadoop2.7.tgz'\n"
     ]
    },
    {
     "ename": "Exception",
     "evalue": "Unable to find py4j, your SPARK_HOME may not be configured correctly",
     "output_type": "error",
     "traceback": [
      "\u001b[0;31m---------------------------------------------------------------------------\u001b[0m",
      "\u001b[0;31mIndexError\u001b[0m                                Traceback (most recent call last)",
      "\u001b[0;32m/opt/anaconda3/envs/PythonData/lib/python3.7/site-packages/findspark.py\u001b[0m in \u001b[0;36minit\u001b[0;34m(spark_home, python_path, edit_rc, edit_profile)\u001b[0m\n\u001b[1;32m    142\u001b[0m     \u001b[0;32mtry\u001b[0m\u001b[0;34m:\u001b[0m\u001b[0;34m\u001b[0m\u001b[0;34m\u001b[0m\u001b[0m\n\u001b[0;32m--> 143\u001b[0;31m         \u001b[0mpy4j\u001b[0m \u001b[0;34m=\u001b[0m \u001b[0mglob\u001b[0m\u001b[0;34m(\u001b[0m\u001b[0mos\u001b[0m\u001b[0;34m.\u001b[0m\u001b[0mpath\u001b[0m\u001b[0;34m.\u001b[0m\u001b[0mjoin\u001b[0m\u001b[0;34m(\u001b[0m\u001b[0mspark_python\u001b[0m\u001b[0;34m,\u001b[0m \u001b[0;34m\"lib\"\u001b[0m\u001b[0;34m,\u001b[0m \u001b[0;34m\"py4j-*.zip\"\u001b[0m\u001b[0;34m)\u001b[0m\u001b[0;34m)\u001b[0m\u001b[0;34m[\u001b[0m\u001b[0;36m0\u001b[0m\u001b[0;34m]\u001b[0m\u001b[0;34m\u001b[0m\u001b[0;34m\u001b[0m\u001b[0m\n\u001b[0m\u001b[1;32m    144\u001b[0m     \u001b[0;32mexcept\u001b[0m \u001b[0mIndexError\u001b[0m\u001b[0;34m:\u001b[0m\u001b[0;34m\u001b[0m\u001b[0;34m\u001b[0m\u001b[0m\n",
      "\u001b[0;31mIndexError\u001b[0m: list index out of range",
      "\nDuring handling of the above exception, another exception occurred:\n",
      "\u001b[0;31mException\u001b[0m                                 Traceback (most recent call last)",
      "\u001b[0;32m<ipython-input-1-d64a0a6d7e82>\u001b[0m in \u001b[0;36m<module>\u001b[0;34m\u001b[0m\n\u001b[1;32m     20\u001b[0m \u001b[0;31m# Start a SparkSession\u001b[0m\u001b[0;34m\u001b[0m\u001b[0;34m\u001b[0m\u001b[0;34m\u001b[0m\u001b[0m\n\u001b[1;32m     21\u001b[0m \u001b[0;32mimport\u001b[0m \u001b[0mfindspark\u001b[0m\u001b[0;34m\u001b[0m\u001b[0;34m\u001b[0m\u001b[0m\n\u001b[0;32m---> 22\u001b[0;31m \u001b[0mfindspark\u001b[0m\u001b[0;34m.\u001b[0m\u001b[0minit\u001b[0m\u001b[0;34m(\u001b[0m\u001b[0;34m)\u001b[0m\u001b[0;34m\u001b[0m\u001b[0;34m\u001b[0m\u001b[0m\n\u001b[0m",
      "\u001b[0;32m/opt/anaconda3/envs/PythonData/lib/python3.7/site-packages/findspark.py\u001b[0m in \u001b[0;36minit\u001b[0;34m(spark_home, python_path, edit_rc, edit_profile)\u001b[0m\n\u001b[1;32m    144\u001b[0m     \u001b[0;32mexcept\u001b[0m \u001b[0mIndexError\u001b[0m\u001b[0;34m:\u001b[0m\u001b[0;34m\u001b[0m\u001b[0;34m\u001b[0m\u001b[0m\n\u001b[1;32m    145\u001b[0m         raise Exception(\n\u001b[0;32m--> 146\u001b[0;31m             \u001b[0;34m\"Unable to find py4j, your SPARK_HOME may not be configured correctly\"\u001b[0m\u001b[0;34m\u001b[0m\u001b[0;34m\u001b[0m\u001b[0m\n\u001b[0m\u001b[1;32m    147\u001b[0m         )\n\u001b[1;32m    148\u001b[0m     \u001b[0msys\u001b[0m\u001b[0;34m.\u001b[0m\u001b[0mpath\u001b[0m\u001b[0;34m[\u001b[0m\u001b[0;34m:\u001b[0m\u001b[0;36m0\u001b[0m\u001b[0;34m]\u001b[0m \u001b[0;34m=\u001b[0m \u001b[0;34m[\u001b[0m\u001b[0mspark_python\u001b[0m\u001b[0;34m,\u001b[0m \u001b[0mpy4j\u001b[0m\u001b[0;34m]\u001b[0m\u001b[0;34m\u001b[0m\u001b[0;34m\u001b[0m\u001b[0m\n",
      "\u001b[0;31mException\u001b[0m: Unable to find py4j, your SPARK_HOME may not be configured correctly"
     ]
    }
   ],
   "source": [
    "import os\n",
    "# Find the latest version of spark 2.0  from http://www-us.apache.org/dist/spark/ and enter as the spark version\n",
    "# For example:\n",
    "# spark_version = 'spark-2.4.6'\n",
    "spark_version = 'spark-2.4.7'\n",
    "os.environ['SPARK_VERSION']=spark_version\n",
    "\n",
    "# Install Spark and Java\n",
    "!apt-get update\n",
    "!apt-get install openjdk-8-jdk-headless -qq > /dev/null\n",
    "!wget -q http://www-us.apache.org/dist/spark/$SPARK_VERSION/$SPARK_VERSION-bin-hadoop2.7.tgz\n",
    "!tar xf $SPARK_VERSION-bin-hadoop2.7.tgz\n",
    "!pip install -q findspark\n",
    "\n",
    "# Set Environment Variables\n",
    "import os\n",
    "os.environ[\"JAVA_HOME\"] = \"/usr/lib/jvm/java-8-openjdk-amd64\"\n",
    "os.environ[\"SPARK_HOME\"] = f\"/content/{spark_version}-bin-hadoop2.7\"\n",
    "\n",
    "# Start a SparkSession\n",
    "import findspark\n",
    "findspark.init()"
   ]
  },
  {
   "cell_type": "code",
   "execution_count": 29,
   "metadata": {
    "colab": {
     "base_uri": "https://localhost:8080/",
     "height": 204
    },
    "id": "VzeXSbDoxgcm",
    "outputId": "79a57ef0-6d55-4c65-885f-57a51f6dcecd"
   },
   "outputs": [
    {
     "name": "stdout",
     "output_type": "stream",
     "text": [
      "--2020-10-11 00:24:02--  https://jdbc.postgresql.org/download/postgresql-42.2.9.jar\n",
      "Resolving jdbc.postgresql.org (jdbc.postgresql.org)... 72.32.157.228, 2001:4800:3e1:1::228\n",
      "Connecting to jdbc.postgresql.org (jdbc.postgresql.org)|72.32.157.228|:443... connected.\n",
      "HTTP request sent, awaiting response... 200 OK\n",
      "Length: 914037 (893K) [application/java-archive]\n",
      "Saving to: ‘postgresql-42.2.9.jar.4’\n",
      "\n",
      "postgresql-42.2.9.j 100%[===================>] 892.61K  4.96MB/s    in 0.2s    \n",
      "\n",
      "2020-10-11 00:24:02 (4.96 MB/s) - ‘postgresql-42.2.9.jar.4’ saved [914037/914037]\n",
      "\n"
     ]
    }
   ],
   "source": [
    "!wget https://jdbc.postgresql.org/download/postgresql-42.2.9.jar"
   ]
  },
  {
   "cell_type": "code",
   "execution_count": 30,
   "metadata": {
    "id": "oWZBfxKjxlER"
   },
   "outputs": [],
   "source": [
    "from pyspark.sql import SparkSession\n",
    "spark = SparkSession.builder.appName(\"CloudETL\").config(\"spark.driver.extraClassPath\",\"/content/postgresql-42.2.9.jar\").getOrCreate()"
   ]
  },
  {
   "cell_type": "code",
   "execution_count": 31,
   "metadata": {
    "colab": {
     "base_uri": "https://localhost:8080/",
     "height": 479
    },
    "id": "cgPhpgGrxtaT",
    "outputId": "8b95cfad-6c11-44e1-d9b5-a6ae35b844d2"
   },
   "outputs": [
    {
     "name": "stdout",
     "output_type": "stream",
     "text": [
      "+----------+-------------+------------+------------------------+-------------------+-------------------+-------+-------------------+-------+----------+----------+------------------+------------+------------+------------------+------------------+----------+------------+------------+--------------+-----------+-------------+\n",
      "|Unnamed: 0|backers_count|    category|country_displayable_name|         created_at|           deadline|   goal|        launched_at|pledged|staff_pick|     state|       usd_pledged|sub_category|blurb_length|launch_to_deadline|creation_to_launch|launch_day|deadline_day|launch_month|deadline_month|launch_time|deadline_time|\n",
      "+----------+-------------+------------+------------------------+-------------------+-------------------+-------+-------------------+-------+----------+----------+------------------+------------+------------+------------------+------------------+----------+------------+------------+--------------+-----------+-------------+\n",
      "|         0|            3|        food|       the United States|2014-08-30 01:10:21|2014-10-02 15:44:07|  400.0|2014-09-02 15:44:07|   15.0|     false|    failed|              15.0| small batch|        28.0|                30|                 3|   Tuesday|    Thursday|   September|       October|    2pm-4pm|      2pm-4pm|\n",
      "|         1|            6|  technology|      the United Kingdom|2015-02-18 17:15:56|2015-03-20 20:59:26|  200.0|2015-02-18 21:59:26|   28.0|     false|    failed|       43.04176128|    software|        22.0|                29|                 0| Wednesday|      Friday|    February|         March|   8pm-10pm|     8pm-10pm|\n",
      "|         2|           90| photography|       the United States|2018-07-28 02:07:21|2018-08-27 13:18:38| 2500.0|2018-07-28 13:18:38| 4350.0|     false|successful|            4350.0|  photobooks|        18.0|                30|                 0|  Saturday|      Monday|        July|        August|   12pm-2pm|     12pm-2pm|\n",
      "|         3|          205| photography|      the United Kingdom|2018-02-10 14:42:07|2018-04-05 06:42:32| 9500.0|2018-03-06 07:42:32|10181.0|     false|successful|    14043.22353781|  photobooks|        19.0|                29|                23|   Tuesday|    Thursday|       March|         April|    6am-8am|      6am-8am|\n",
      "|         4|           35|         art|       the United States|2012-07-25 23:21:04|2012-09-11 03:59:00| 4000.0|2012-08-27 20:40:13| 4254.0|     false|successful|            4254.0|  public art|        25.0|                14|                32|    Monday|     Tuesday|      August|     September|   8pm-10pm|      2am-4am|\n",
      "|         6|           38|         art|      the United Kingdom|2019-04-14 13:51:17|2019-05-25 16:10:17|  600.0|2019-04-25 16:10:17| 1536.0|     false|successful|     1987.09937664|    ceramics|        25.0|                30|                11|  Thursday|    Saturday|       April|           May|    4pm-6pm|      4pm-6pm|\n",
      "|         7|           15|  technology|       the United States|2016-07-18 06:08:13|2016-08-21 17:53:41|50000.0|2016-07-22 17:53:41| 2423.5|     false|    failed|            2423.5|    software|        18.0|                30|                 4|    Friday|      Sunday|        July|        August|    4pm-6pm|      4pm-6pm|\n",
      "|         8|           69| photography|                  France|2017-06-13 20:27:22|2017-07-19 17:11:18| 2250.0|2017-06-19 17:11:18| 2720.0|     false|successful|3045.5715968000004|  photobooks|        26.0|                30|                 5|    Monday|   Wednesday|        June|          July|    4pm-6pm|      4pm-6pm|\n",
      "|         9|            3| photography|       the United States|2015-05-01 13:37:20|2015-05-31 17:59:21| 2800.0|2015-05-01 17:59:21|  102.0|     false|    failed|             102.0|      nature|        28.0|                30|                 0|    Friday|      Sunday|         May|           May|    4pm-6pm|      4pm-6pm|\n",
      "|        11|            2|     fashion|                  Canada|2017-10-22 22:37:29|2017-12-07 17:09:47| 6000.0|2017-10-23 16:09:47|  245.0|     false|    failed|       194.0400392|    footwear|        19.0|                45|                 0|    Monday|    Thursday|     October|      December|    4pm-6pm|      4pm-6pm|\n",
      "|        12|          305|film & video|      the United Kingdom|2016-02-08 15:55:58|2016-06-08 08:56:54|75000.0|2016-05-09 08:56:54|77616.0|      true|successful|   111996.92927808|      comedy|        18.0|                30|                90|    Monday|   Wednesday|         May|          June|   8am-10am|     8am-10am|\n",
      "|        13|          192|       music|       the United States|2019-01-12 23:53:52|2019-02-27 15:54:56|15000.0|2019-01-28 15:54:56|15360.0|     false|successful|           15360.0|        none|        22.0|                30|                15|    Monday|   Wednesday|     January|      February|    2pm-4pm|      2pm-4pm|\n",
      "|        14|            2|        food|       the United States|2018-05-12 17:14:10|2018-06-17 21:17:50|25000.0|2018-05-18 21:17:50|   31.0|     false|    failed|              31.0|   cookbooks|        20.0|                30|                 6|    Friday|      Sunday|         May|          June|   8pm-10pm|     8pm-10pm|\n",
      "|        15|           69|  publishing|       the United States|2019-11-27 03:33:10|2020-01-01 15:47:53| 1600.0|2019-12-02 15:47:53|6770.11|     false|successful|           6770.11|  nonfiction|        18.0|                30|                 5|    Monday|   Wednesday|    December|       January|    2pm-4pm|      2pm-4pm|\n",
      "|        16|            1|        food|                 Germany|2016-10-25 18:41:28|2016-11-25 11:06:01| 7500.0|2016-10-26 10:06:01|    1.0|     false|    failed|         1.0879617|   cookbooks|        24.0|                30|                 0| Wednesday|      Friday|     October|      November|  10am-12pm|    10am-12pm|\n",
      "|        17|           40|  journalism|                  France|2019-03-11 10:05:17|2019-05-15 10:00:00| 2500.0|2019-03-19 09:28:28| 2733.0|     false|successful|     3097.94399454|       audio|        19.0|                57|                 7|   Tuesday|   Wednesday|       March|           May|   8am-10am|    10am-12pm|\n",
      "|        18|           13|        food|       the United States|2015-09-01 04:00:17|2015-10-22 23:49:42|10000.0|2015-09-22 23:49:42| 1100.0|     false|    failed|            1100.0| small batch|        18.0|                30|                21|   Tuesday|    Thursday|   September|       October|  10pm-12am|    10pm-12am|\n",
      "|        19|            2|  publishing|      the United Kingdom|2016-04-16 12:10:23|2016-05-18 20:16:37|  700.0|2016-04-18 20:16:37|    2.0|     false|    failed|         2.8404088|   art books|        18.0|                30|                 2|    Monday|   Wednesday|       April|           May|   8pm-10pm|     8pm-10pm|\n",
      "|        20|           85|  publishing|       the United States|2015-07-10 02:40:16|2015-11-01 05:35:19| 4000.0|2015-09-22 05:35:19| 5815.0|      true|successful|            5815.0|   art books|        19.0|                40|                74|   Tuesday|      Sunday|   September|      November|    4am-6am|      4am-6am|\n",
      "|        21|            2|        food|                 Germany|2019-11-18 14:58:26|2020-01-15 17:00:00| 2500.0|2019-11-24 17:44:07|   21.0|     false|    failed|       23.14472958|   cookbooks|        20.0|                51|                 6|    Sunday|   Wednesday|    November|       January|    4pm-6pm|      4pm-6pm|\n",
      "+----------+-------------+------------+------------------------+-------------------+-------------------+-------+-------------------+-------+----------+----------+------------------+------------+------------+------------------+------------------+----------+------------+------------+--------------+-----------+-------------+\n",
      "only showing top 20 rows\n",
      "\n"
     ]
    }
   ],
   "source": [
    "# Read in data from S3 Buckets\n",
    "from pyspark import SparkFiles\n",
    "url =\"https://laurentvh-kickstarter.s3.us-east-2.amazonaws.com/latest_data.csv\"\n",
    "spark.sparkContext.addFile(url)\n",
    "kick_df = spark.read.csv(SparkFiles.get(\"latest_data.csv\"), sep=\",\", header=True, inferSchema=True)\n",
    "\n",
    "# Show DataFrame\n",
    "kick_df.show()"
   ]
  },
  {
   "cell_type": "code",
   "execution_count": 32,
   "metadata": {
    "colab": {
     "base_uri": "https://localhost:8080/",
     "height": 391
    },
    "id": "rm_YulNPyTxC",
    "outputId": "af5d899b-f386-4f7d-f7c7-72d3061188af"
   },
   "outputs": [
    {
     "data": {
      "text/plain": [
       "[('Unnamed: 0', 'int'),\n",
       " ('backers_count', 'int'),\n",
       " ('category', 'string'),\n",
       " ('country_displayable_name', 'string'),\n",
       " ('created_at', 'timestamp'),\n",
       " ('deadline', 'timestamp'),\n",
       " ('goal', 'double'),\n",
       " ('launched_at', 'timestamp'),\n",
       " ('pledged', 'double'),\n",
       " ('staff_pick', 'boolean'),\n",
       " ('state', 'string'),\n",
       " ('usd_pledged', 'double'),\n",
       " ('sub_category', 'string'),\n",
       " ('blurb_length', 'double'),\n",
       " ('launch_to_deadline', 'int'),\n",
       " ('creation_to_launch', 'int'),\n",
       " ('launch_day', 'string'),\n",
       " ('deadline_day', 'string'),\n",
       " ('launch_month', 'string'),\n",
       " ('deadline_month', 'string'),\n",
       " ('launch_time', 'string'),\n",
       " ('deadline_time', 'string')]"
      ]
     },
     "execution_count": 32,
     "metadata": {
      "tags": []
     },
     "output_type": "execute_result"
    }
   ],
   "source": [
    "kick_df.dtypes"
   ]
  },
  {
   "cell_type": "code",
   "execution_count": 33,
   "metadata": {
    "colab": {
     "base_uri": "https://localhost:8080/",
     "height": 479
    },
    "id": "eSLw6GGWyBMa",
    "outputId": "64f92dc8-afb3-46bc-874c-f7cd44e192f9"
   },
   "outputs": [
    {
     "name": "stdout",
     "output_type": "stream",
     "text": [
      "+------------------------+-------------------+------------------+------------------+----------+------------+------------+--------------+-----------+-------------+\n",
      "|country_displayable_name|        launched_at|launch_to_deadline|creation_to_launch|launch_day|deadline_day|launch_month|deadline_month|launch_time|deadline_time|\n",
      "+------------------------+-------------------+------------------+------------------+----------+------------+------------+--------------+-----------+-------------+\n",
      "|       the United States|2014-09-02 15:44:07|                30|                 3|   Tuesday|    Thursday|   September|       October|    2pm-4pm|      2pm-4pm|\n",
      "|      the United Kingdom|2015-02-18 21:59:26|                29|                 0| Wednesday|      Friday|    February|         March|   8pm-10pm|     8pm-10pm|\n",
      "|       the United States|2018-07-28 13:18:38|                30|                 0|  Saturday|      Monday|        July|        August|   12pm-2pm|     12pm-2pm|\n",
      "|      the United Kingdom|2018-03-06 07:42:32|                29|                23|   Tuesday|    Thursday|       March|         April|    6am-8am|      6am-8am|\n",
      "|       the United States|2012-08-27 20:40:13|                14|                32|    Monday|     Tuesday|      August|     September|   8pm-10pm|      2am-4am|\n",
      "|      the United Kingdom|2019-04-25 16:10:17|                30|                11|  Thursday|    Saturday|       April|           May|    4pm-6pm|      4pm-6pm|\n",
      "|       the United States|2016-07-22 17:53:41|                30|                 4|    Friday|      Sunday|        July|        August|    4pm-6pm|      4pm-6pm|\n",
      "|                  France|2017-06-19 17:11:18|                30|                 5|    Monday|   Wednesday|        June|          July|    4pm-6pm|      4pm-6pm|\n",
      "|       the United States|2015-05-01 17:59:21|                30|                 0|    Friday|      Sunday|         May|           May|    4pm-6pm|      4pm-6pm|\n",
      "|                  Canada|2017-10-23 16:09:47|                45|                 0|    Monday|    Thursday|     October|      December|    4pm-6pm|      4pm-6pm|\n",
      "|      the United Kingdom|2016-05-09 08:56:54|                30|                90|    Monday|   Wednesday|         May|          June|   8am-10am|     8am-10am|\n",
      "|       the United States|2019-01-28 15:54:56|                30|                15|    Monday|   Wednesday|     January|      February|    2pm-4pm|      2pm-4pm|\n",
      "|       the United States|2018-05-18 21:17:50|                30|                 6|    Friday|      Sunday|         May|          June|   8pm-10pm|     8pm-10pm|\n",
      "|       the United States|2019-12-02 15:47:53|                30|                 5|    Monday|   Wednesday|    December|       January|    2pm-4pm|      2pm-4pm|\n",
      "|                 Germany|2016-10-26 10:06:01|                30|                 0| Wednesday|      Friday|     October|      November|  10am-12pm|    10am-12pm|\n",
      "|                  France|2019-03-19 09:28:28|                57|                 7|   Tuesday|   Wednesday|       March|           May|   8am-10am|    10am-12pm|\n",
      "|       the United States|2015-09-22 23:49:42|                30|                21|   Tuesday|    Thursday|   September|       October|  10pm-12am|    10pm-12am|\n",
      "|      the United Kingdom|2016-04-18 20:16:37|                30|                 2|    Monday|   Wednesday|       April|           May|   8pm-10pm|     8pm-10pm|\n",
      "|       the United States|2015-09-22 05:35:19|                40|                74|   Tuesday|      Sunday|   September|      November|    4am-6am|      4am-6am|\n",
      "|                 Germany|2019-11-24 17:44:07|                51|                 6|    Sunday|   Wednesday|    November|       January|    4pm-6pm|      4pm-6pm|\n",
      "+------------------------+-------------------+------------------+------------------+----------+------------+------------+--------------+-----------+-------------+\n",
      "only showing top 20 rows\n",
      "\n"
     ]
    }
   ],
   "source": [
    "# Split into two tables\n",
    "kick_launch_df = kick_df.select([\"Unnamed: 0\",\"country_displayable_name\", \"launched_at\", \"launch_to_deadline\", \"creation_to_launch\",\"launch_day\",\"deadline_day\",\"launch_month\",\"deadline_month\",\"launch_time\",\"deadline_time\"])\n",
    "kick_launch_df.show()"
   ]
  },
  {
   "cell_type": "code",
   "execution_count": 34,
   "metadata": {
    "colab": {
     "base_uri": "https://localhost:8080/",
     "height": 479
    },
    "id": "d1Plqsk1y5D2",
    "outputId": "472c6c71-895e-4b1a-bff4-006d61008ddd"
   },
   "outputs": [
    {
     "name": "stdout",
     "output_type": "stream",
     "text": [
      "+------------------------+-------------+------------+-------------------+-------------------+-------+-------+----------+----------+------------------+------------+------------+\n",
      "|country_displayable_name|backers_count|    category|         created_at|           deadline|   goal|pledged|staff_pick|     state|       usd_pledged|sub_category|blurb_length|\n",
      "+------------------------+-------------+------------+-------------------+-------------------+-------+-------+----------+----------+------------------+------------+------------+\n",
      "|       the United States|            3|        food|2014-08-30 01:10:21|2014-10-02 15:44:07|  400.0|   15.0|     false|    failed|              15.0| small batch|        28.0|\n",
      "|      the United Kingdom|            6|  technology|2015-02-18 17:15:56|2015-03-20 20:59:26|  200.0|   28.0|     false|    failed|       43.04176128|    software|        22.0|\n",
      "|       the United States|           90| photography|2018-07-28 02:07:21|2018-08-27 13:18:38| 2500.0| 4350.0|     false|successful|            4350.0|  photobooks|        18.0|\n",
      "|      the United Kingdom|          205| photography|2018-02-10 14:42:07|2018-04-05 06:42:32| 9500.0|10181.0|     false|successful|    14043.22353781|  photobooks|        19.0|\n",
      "|       the United States|           35|         art|2012-07-25 23:21:04|2012-09-11 03:59:00| 4000.0| 4254.0|     false|successful|            4254.0|  public art|        25.0|\n",
      "|      the United Kingdom|           38|         art|2019-04-14 13:51:17|2019-05-25 16:10:17|  600.0| 1536.0|     false|successful|     1987.09937664|    ceramics|        25.0|\n",
      "|       the United States|           15|  technology|2016-07-18 06:08:13|2016-08-21 17:53:41|50000.0| 2423.5|     false|    failed|            2423.5|    software|        18.0|\n",
      "|                  France|           69| photography|2017-06-13 20:27:22|2017-07-19 17:11:18| 2250.0| 2720.0|     false|successful|3045.5715968000004|  photobooks|        26.0|\n",
      "|       the United States|            3| photography|2015-05-01 13:37:20|2015-05-31 17:59:21| 2800.0|  102.0|     false|    failed|             102.0|      nature|        28.0|\n",
      "|                  Canada|            2|     fashion|2017-10-22 22:37:29|2017-12-07 17:09:47| 6000.0|  245.0|     false|    failed|       194.0400392|    footwear|        19.0|\n",
      "|      the United Kingdom|          305|film & video|2016-02-08 15:55:58|2016-06-08 08:56:54|75000.0|77616.0|      true|successful|   111996.92927808|      comedy|        18.0|\n",
      "|       the United States|          192|       music|2019-01-12 23:53:52|2019-02-27 15:54:56|15000.0|15360.0|     false|successful|           15360.0|        none|        22.0|\n",
      "|       the United States|            2|        food|2018-05-12 17:14:10|2018-06-17 21:17:50|25000.0|   31.0|     false|    failed|              31.0|   cookbooks|        20.0|\n",
      "|       the United States|           69|  publishing|2019-11-27 03:33:10|2020-01-01 15:47:53| 1600.0|6770.11|     false|successful|           6770.11|  nonfiction|        18.0|\n",
      "|                 Germany|            1|        food|2016-10-25 18:41:28|2016-11-25 11:06:01| 7500.0|    1.0|     false|    failed|         1.0879617|   cookbooks|        24.0|\n",
      "|                  France|           40|  journalism|2019-03-11 10:05:17|2019-05-15 10:00:00| 2500.0| 2733.0|     false|successful|     3097.94399454|       audio|        19.0|\n",
      "|       the United States|           13|        food|2015-09-01 04:00:17|2015-10-22 23:49:42|10000.0| 1100.0|     false|    failed|            1100.0| small batch|        18.0|\n",
      "|      the United Kingdom|            2|  publishing|2016-04-16 12:10:23|2016-05-18 20:16:37|  700.0|    2.0|     false|    failed|         2.8404088|   art books|        18.0|\n",
      "|       the United States|           85|  publishing|2015-07-10 02:40:16|2015-11-01 05:35:19| 4000.0| 5815.0|      true|successful|            5815.0|   art books|        19.0|\n",
      "|                 Germany|            2|        food|2019-11-18 14:58:26|2020-01-15 17:00:00| 2500.0|   21.0|     false|    failed|       23.14472958|   cookbooks|        20.0|\n",
      "+------------------------+-------------+------------+-------------------+-------------------+-------+-------+----------+----------+------------------+------------+------------+\n",
      "only showing top 20 rows\n",
      "\n"
     ]
    }
   ],
   "source": [
    "kick_pledge_df = kick_df.select([\"Unnamed: 0\",\"backers_count\", \"category\", \"created_at\",\"deadline\",\"goal\",\"pledged\",\"staff_pick\",\"state\",\"usd_pledged\",\"sub_category\",\"blurb_length\"])\n",
    "kick_pledge_df.show()"
   ]
  },
  {
   "cell_type": "code",
   "execution_count": 35,
   "metadata": {
    "id": "4wfBvBpg-3jy"
   },
   "outputs": [],
   "source": [
    "# Steps to get our transformed raw data into RDS\n",
    "# Configure settings for RDS\n",
    "mode = \"append\"\n",
    "jdbc_url= \"jdbc:postgresql://kickstarter.cp9rrwk96at4.us-east-1.rds.amazonaws.com:5432/postgres\"\n",
    "config = {\"user\":\"postgres\",\n",
    "          \"password\": \"Laurent123!\",\n",
    "          \"driver\":\"org.postgresql.Driver\"}"
   ]
  },
  {
   "cell_type": "code",
   "execution_count": 40,
   "metadata": {
    "id": "fVTni8CS0jVq"
   },
   "outputs": [],
   "source": [
    "# Write DataFrame to active_user table in RDS\n",
    "kick_pledge_df.write.jdbc(url=jdbc_url, table='kickstarter_pledge', mode=mode, properties=config)"
   ]
  },
  {
   "cell_type": "code",
   "execution_count": 41,
   "metadata": {
    "id": "KGJG6DV00pT_"
   },
   "outputs": [],
   "source": [
    "kick_launch_df.write.jdbc(url=jdbc_url, table='kickstarter_launch', mode=mode, properties=config)"
   ]
  },
  {
   "cell_type": "code",
   "execution_count": null,
   "metadata": {
    "id": "CLb_GSDg1d0H"
   },
   "outputs": [],
   "source": []
  }
 ],
 "metadata": {
  "colab": {
   "collapsed_sections": [],
   "name": "Tables.ipynb",
   "provenance": []
  },
  "kernelspec": {
   "display_name": "Python 3",
   "language": "python",
   "name": "python3"
  },
  "language_info": {
   "codemirror_mode": {
    "name": "ipython",
    "version": 3
   },
   "file_extension": ".py",
   "mimetype": "text/x-python",
   "name": "python",
   "nbconvert_exporter": "python",
   "pygments_lexer": "ipython3",
   "version": "3.7.7"
  }
 },
 "nbformat": 4,
 "nbformat_minor": 1
}
