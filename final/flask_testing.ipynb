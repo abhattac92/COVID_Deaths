{
 "cells": [
  {
   "cell_type": "markdown",
   "metadata": {},
   "source": [
    "this is what i used to write the code for the app"
   ]
  },
  {
   "cell_type": "code",
   "execution_count": 1,
   "metadata": {},
   "outputs": [],
   "source": [
    "from flask import Flask, render_template, request\n",
    "import pickle\n",
    "import numpy as np\n",
    "from sklearn.preprocessing import StandardScaler\n",
    "import pandas as pd\n",
    "import pickle "
   ]
  },
  {
   "cell_type": "code",
   "execution_count": 2,
   "metadata": {},
   "outputs": [
    {
     "ename": "FileNotFoundError",
     "evalue": "[Errno 2] No such file or directory: 'model.pkl'",
     "output_type": "error",
     "traceback": [
      "\u001b[0;31m---------------------------------------------------------------------------\u001b[0m",
      "\u001b[0;31mFileNotFoundError\u001b[0m                         Traceback (most recent call last)",
      "\u001b[0;32m<ipython-input-2-e8fe5c9103be>\u001b[0m in \u001b[0;36m<module>\u001b[0;34m\u001b[0m\n\u001b[0;32m----> 1\u001b[0;31m \u001b[0mmodel\u001b[0m \u001b[0;34m=\u001b[0m \u001b[0mpickle\u001b[0m\u001b[0;34m.\u001b[0m\u001b[0mload\u001b[0m\u001b[0;34m(\u001b[0m\u001b[0mopen\u001b[0m\u001b[0;34m(\u001b[0m\u001b[0;34m'model.pkl'\u001b[0m\u001b[0;34m,\u001b[0m \u001b[0;34m'rb'\u001b[0m\u001b[0;34m)\u001b[0m\u001b[0;34m)\u001b[0m\u001b[0;34m\u001b[0m\u001b[0;34m\u001b[0m\u001b[0m\n\u001b[0m",
      "\u001b[0;31mFileNotFoundError\u001b[0m: [Errno 2] No such file or directory: 'model.pkl'"
     ]
    }
   ],
   "source": [
    "model = pickle.load(open('model.pkl', 'rb'))"
   ]
  },
  {
   "cell_type": "code",
   "execution_count": null,
   "metadata": {
    "scrolled": true
   },
   "outputs": [],
   "source": [
    "#inputs from the website\n",
    "goal = '50'\n",
    "blurb = '25'\n",
    "creation = '06/21/2019'\n",
    "launch = '06/28/2019'\n",
    "deadline = '08/01/2019'\n",
    "category = 'Art'\n",
    "country = 'the United States'\n",
    "launchTime = '2am-4am'\n",
    "deadlineTime= '8am-10am'\n",
    "\n",
    "#create array from input\n",
    "arr = np.array([[goal, blurb, creation, launch, deadline, category, country, launchTime, deadlineTime]])\n",
    "#convert to pandas df\n",
    "df = pd.DataFrame(data=arr, index=[\"input\"], columns=[\n",
    "                  \"goal\", \"blurb\", \"creation\", \"launch\", \"deadline\",'category','country','launchTime', 'deadlineTime'])\n",
    "#make sure the dates are formatted properly\n",
    "df[['creation', 'deadline', 'launch']] = df[['creation', 'deadline',\n",
    "                                             'launch']].apply(pd.to_datetime)  # if conversion required\n",
    "# use deadline, launch, creation to creat 2 new columns with days in between each\n",
    "df['launch_to_deadline'] = (df['deadline'] - df['launch']).dt.days\n",
    "df['creation_to_launch'] = (df['launch'] - df['creation']).dt.days\n",
    "\n",
    "#drop original columns\n",
    "df = df.drop(columns=['creation', 'launch', 'deadline'])\n",
    "#change dtype\n",
    "df[\"goal\"] = df['goal'].astype('int')\n",
    "df[\"blurb\"] = df['blurb'].astype('int')\n",
    "\n",
    "df"
   ]
  },
  {
   "cell_type": "code",
   "execution_count": null,
   "metadata": {},
   "outputs": [],
   "source": [
    "arr"
   ]
  },
  {
   "cell_type": "code",
   "execution_count": null,
   "metadata": {},
   "outputs": [],
   "source": [
    "#category hotencoder\n",
    "if category == 'Art':\n",
    "    cat_arr = np.array([[1,0,0,0,0,0,0,0,0,0,0,0,0,0,0]])\n",
    "elif category == 'Comics':\n",
    "    cat_arr = np.array([[0,1,0,0,0,0,0,0,0,0,0,0,0,0,0]])\n",
    "elif category == 'Crafts':\n",
    "    cat_arr = np.array([[0,0,1,0,0,0,0,0,0,0,0,0,0,0,0]])\n",
    "elif category == 'Dance':\n",
    "    cat_arr = np.array([[0,0,0,1,0,0,0,0,0,0,0,0,0,0,0]])\n",
    "elif category == 'Design':\n",
    "    cat_arr = np.array([[0,0,0,0,1,0,0,0,0,0,0,0,0,0,0]])\n",
    "elif category == 'Fashion':\n",
    "    cat_arr = np.array([[0,0,0,0,0,1,0,0,0,0,0,0,0,0,0]])\n",
    "elif category == 'Film':\n",
    "    cat_arr = np.array([[0,0,0,0,0,0,1,0,0,0,0,0,0,0,0]])\n",
    "elif category == 'Food':\n",
    "    cat_arr = np.array([[0,0,0,0,0,0,0,1,0,0,0,0,0,0,0]])\n",
    "elif category == 'Games':\n",
    "    cat_arr = np.array([[0,0,0,0,0,0,0,0,1,0,0,0,0,0,0]])\n",
    "elif category == 'Journalism':\n",
    "    cat_arr = np.array([[0,0,0,0,0,0,0,0,0,1,0,0,0,0,0]])\n",
    "elif category == 'Music':\n",
    "    cat_arr = np.array([[0,0,0,0,0,0,0,0,0,0,1,0,0,0,0]])\n",
    "elif category == 'Photography':\n",
    "    cat_arr = np.array([[0,0,0,0,0,0,0,0,0,0,0,1,0,0,0]])\n",
    "elif category == 'Publishing':\n",
    "    cat_arr = np.array([[0,0,0,0,0,0,0,0,0,0,0,0,1,0,0]])\n",
    "elif category == 'Technology':\n",
    "    cat_arr = np.array([[0,0,0,0,0,0,0,0,0,0,0,0,0,1,0]])\n",
    "elif category == 'Theater':\n",
    "    cat_arr = np.array([[0,0,0,0,0,0,0,0,0,0,0,0,0,0,1]])\n",
    "df_cat = pd.DataFrame(data=cat_arr, index=[\"input\"], columns=[\n",
    "                  'category_art','category_comics','category_crafts', 'category_dance','category_design','category_fashion','category_film & video','category_food','category_games','category_journalism','category_music','category_photography','category_publishing','category_technology','category_theater'])"
   ]
  },
  {
   "cell_type": "code",
   "execution_count": null,
   "metadata": {},
   "outputs": [],
   "source": [
    "#country onehotencoder\n",
    "if country == 'Australia':\n",
    "    country_arr = np.array([[1,0,0,0,0,0,0,0,0,0,0,0,0,0,0,0,0,0,0,0,0,0]])\n",
    "elif country == 'Austria':\n",
    "    country_arr = np.array([[0,1,0,0,0,0,0,0,0,0,0,0,0,0,0,0,0,0,0,0,0,0]])\n",
    "elif country == 'Belgium':\n",
    "    country_arr = np.array([[0,0,1,0,0,0,0,0,0,0,0,0,0,0,0,0,0,0,0,0,0,0]])\n",
    "elif country == 'Canada':\n",
    "    country_arr = np.array([[0,0,0,1,0,0,0,0,0,0,0,0,0,0,0,0,0,0,0,0,0,0]])\n",
    "elif country == 'Denmark':\n",
    "    country_arr = np.array([[0,0,0,0,1,0,0,0,0,0,0,0,0,0,0,0,0,0,0,0,0,0]])\n",
    "elif country == 'France':\n",
    "    country_arr = np.array([[0,0,0,0,0,1,0,0,0,0,0,0,0,0,0,0,0,0,0,0,0,0]])\n",
    "elif country == 'Germany':\n",
    "    country_arr = np.array([[0,0,0,0,0,0,1,0,0,0,0,0,0,0,0,0,0,0,0,0,0,0]])\n",
    "elif country == 'Hong Kong':\n",
    "    country_arr = np.array([[0,0,0,0,0,0,0,1,0,0,0,0,0,0,0,0,0,0,0,0,0,0]])\n",
    "elif country == 'Ireland':\n",
    "    country_arr = np.array([[0,0,0,0,0,0,0,0,1,0,0,0,0,0,0,0,0,0,0,0,0,0]])\n",
    "elif country == 'Italy':\n",
    "    country_arr = np.array([[0,0,0,0,0,0,0,0,0,1,0,0,0,0,0,0,0,0,0,0,0,0]])\n",
    "elif country == 'Japan':\n",
    "    country_arr = np.array([[0,0,0,0,0,0,0,0,0,0,1,0,0,0,0,0,0,0,0,0,0,0]])\n",
    "elif country == 'Luxembourg':\n",
    "    country_arr = np.array([[0,0,0,0,0,0,0,0,0,0,0,1,0,0,0,0,0,0,0,0,0,0]])\n",
    "elif country == 'Mexico':\n",
    "    country_arr = np.array([[0,0,0,0,0,0,0,0,0,0,0,0,1,0,0,0,0,0,0,0,0,0]])\n",
    "elif country == 'New Zealand':\n",
    "    country_arr = np.array([[0,0,0,0,0,0,0,0,0,0,0,0,0,1,0,0,0,0,0,0,0,0]])\n",
    "elif country == 'Norway':\n",
    "    country_arr = np.array([[0,0,0,0,0,0,0,0,0,0,0,0,0,0,1,0,0,0,0,0,0,0]]) \n",
    "elif country == 'Singapore':\n",
    "    country_arr = np.array([[0,0,0,0,0,0,0,0,0,0,0,0,0,0,0,1,0,0,0,0,0,0]]) \n",
    "elif country == 'Spain':\n",
    "    country_arr = np.array([[0,0,0,0,0,0,0,0,0,0,0,0,0,0,0,0,1,0,0,0,0,0]]) \n",
    "elif country == 'Sweden':\n",
    "    country_arr = np.array([[0,0,0,0,0,0,0,0,0,0,0,0,0,0,0,0,0,1,0,0,0,0]]) \n",
    "elif country == 'Switzerland':\n",
    "    country_arr = np.array([[0,0,0,0,0,0,0,0,0,0,0,0,0,0,0,0,0,0,1,0,0,0]]) \n",
    "elif country == 'the Netherlands':\n",
    "    country_arr = np.array([[0,0,0,0,0,0,0,0,0,0,0,0,0,0,0,0,0,0,0,1,0,0]])   \n",
    "elif country == 'the United Kingdom':\n",
    "    country_arr = np.array([[0,0,0,0,0,0,0,0,0,0,0,0,0,0,0,0,0,0,0,0,1,0]]) \n",
    "elif country == 'the United States':\n",
    "    country_arr = np.array([[0,0,0,0,0,0,0,0,0,0,0,0,0,0,0,0,0,0,0,0,0,1]]) \n",
    "    \n",
    "df_country = pd.DataFrame(data=country_arr, index=[\"input\"], columns=['country_displayable_name_Australia',\n",
    "                                                                      'country_displayable_name_Austria',\n",
    "                                                                      'country_displayable_name_Belgium',\n",
    "                                                                      'country_displayable_name_Canada',\n",
    "                                                                      'country_displayable_name_Denmark',\n",
    "                                                                      'country_displayable_name_France',\n",
    "                                                                      'country_displayable_name_Germany',\n",
    "                                                                      'country_displayable_name_Hong Kong',\n",
    "                                                                      'country_displayable_name_Ireland',\n",
    "                                                                      'country_displayable_name_Italy',\n",
    "                                                                      'country_displayable_name_Japan',\n",
    "                                                                      'country_displayable_name_Luxembourg',\n",
    "                                                                      'country_displayable_name_Mexico',\n",
    "                                                                      'country_displayable_name_New Zealand',\n",
    "                                                                      'country_displayable_name_Norway',\n",
    "                                                                      'country_displayable_name_Singapore',\n",
    "                                                                      'country_displayable_name_Spain',\n",
    "                                                                      'country_displayable_name_Sweden',\n",
    "                                                                      'country_displayable_name_Switzerland',\n",
    "                                                                      'country_displayable_name_the Netherlands',\n",
    "                                                                      'country_displayable_name_the United Kingdom',\n",
    "                                                                      'country_displayable_name_the United States'])"
   ]
  },
  {
   "cell_type": "code",
   "execution_count": null,
   "metadata": {},
   "outputs": [],
   "source": [
    "country_arr"
   ]
  },
  {
   "cell_type": "code",
   "execution_count": null,
   "metadata": {
    "scrolled": true
   },
   "outputs": [],
   "source": [
    "df_country"
   ]
  },
  {
   "cell_type": "code",
   "execution_count": null,
   "metadata": {},
   "outputs": [],
   "source": [
    "# launch time hotencoder, note the order. this is done \"alphabetically\" to match model\n",
    "if launchTime == '10am-12pm':\n",
    "    launchT_arr = np.array([[1,0,0,0,0,0,0,0,0,0,0,0]])\n",
    "elif launchTime == '10pm-12am':\n",
    "    launchT_arr = np.array([[0,1,0,0,0,0,0,0,0,0,0,0]])\n",
    "elif launchTime == '12am-2am':\n",
    "    launchT_arr = np.array([[0,0,1,0,0,0,0,0,0,0,0,0]])\n",
    "elif launchTime == '12pm-2pm':\n",
    "    launchT_arr = np.array([[0,0,0,1,0,0,0,0,0,0,0,0]])\n",
    "elif launchTime == '2am-4am':\n",
    "    launchT_arr = np.array([[0,0,0,0,1,0,0,0,0,0,0,0]])\n",
    "elif launchTime == '2pm-4pm':\n",
    "    launchT_arr = np.array([[0,0,0,0,0,1,0,0,0,0,0,0]])\n",
    "elif launchTime == '4am-6am':\n",
    "    launchT_arr = np.array([[0,0,0,0,0,0,1,0,0,0,0,0]])\n",
    "elif launchTime == '4pm-6pm':\n",
    "    launchT_arr = np.array([[0,0,0,0,0,0,0,1,0,0,0,0]])\n",
    "elif launchTime == '6am-8am':\n",
    "    launchT_arr = np.array([[0,0,0,0,0,0,0,0,1,0,0,0]])\n",
    "elif launchTime == '6pm-8pm':\n",
    "    launchT_arr = np.array([[0,0,0,0,0,0,0,0,0,1,0,0]])\n",
    "elif launchTime == '8am-10am':\n",
    "    launchT_arr = np.array([[0,0,0,0,0,0,0,0,0,0,1,0]])\n",
    "elif launchTime == '8pm-10pm':\n",
    "    launchT_arr = np.array([[0,0,0,0,0,0,0,0,0,0,0,1]])\n",
    "\n",
    "    \n",
    "df_launchT = pd.DataFrame(data=launchT_arr, index=[\"input\"], columns=['launch_time_10am-12pm',\n",
    "                                                                      'launch_time_10pm-12am',\n",
    "                                                                      'launch_time_12am-2am',\n",
    "                                                                      'launch_time_12pm-2pm',\n",
    "                                                                      'launch_time_2am-4am',\n",
    "                                                                      'launch_time_2pm-4pm',\n",
    "                                                                      'launch_time_4am-6am',\n",
    "                                                                      'launch_time_4pm-6pm',\n",
    "                                                                      'launch_time_6am-8am',\n",
    "                                                                      'launch_time_6pm-8pm',\n",
    "                                                                      'launch_time_8am-10am',\n",
    "                                                                      'launch_time_8pm-10pm'])\n",
    "                                                                      \n",
    "\n",
    "                                                        "
   ]
  },
  {
   "cell_type": "code",
   "execution_count": null,
   "metadata": {},
   "outputs": [],
   "source": [
    "# deadline time onehotencoder\n",
    "if deadlineTime == '10am-12pm':\n",
    "    deadlineT_arr = np.array([[1,0,0,0,0,0,0,0,0,0,0,0]])\n",
    "elif deadlineTime == '10pm-12am':\n",
    "    deadlineT_arr = np.array([[0,1,0,0,0,0,0,0,0,0,0,0]])\n",
    "elif deadlineTime == '12am-2am':\n",
    "    deadlineT_arr = np.array([[0,0,1,0,0,0,0,0,0,0,0,0]])\n",
    "elif deadlineTime == '12pm-2pm':\n",
    "    deadlineT_arr = np.array([[0,0,0,1,0,0,0,0,0,0,0,0]])\n",
    "elif deadlineTime == '2am-4am':\n",
    "    deadlineT_arr = np.array([[0,0,0,0,1,0,0,0,0,0,0,0]])\n",
    "elif deadlineTime == '2pm-4pm':\n",
    "    deadlineT_arr = np.array([[0,0,0,0,0,1,0,0,0,0,0,0]])\n",
    "elif deadlineTime == '4am-6am':\n",
    "    deadlineT_arr = np.array([[0,0,0,0,0,0,1,0,0,0,0,0]])\n",
    "elif deadlineTime == '4pm-6pm':\n",
    "    deadlineT_arr = np.array([[0,0,0,0,0,0,0,1,0,0,0,0]])\n",
    "elif deadlineTime == '6am-8am':\n",
    "    deadlineT_arr = np.array([[0,0,0,0,0,0,0,0,1,0,0,0]])\n",
    "elif deadlineTime == '6pm-8pm':\n",
    "    deadlineT_arr = np.array([[0,0,0,0,0,0,0,0,0,1,0,0]])\n",
    "elif deadlineTime == '8am-10am':\n",
    "    deadlineT_arr = np.array([[0,0,0,0,0,0,0,0,0,0,1,0]])\n",
    "elif deadlineTime == '8pm-10pm':\n",
    "    deadlineT_arr = np.array([[0,0,0,0,0,0,0,0,0,0,0,1]])\n",
    "\n",
    "    \n",
    "df_deadlineT = pd.DataFrame(data=deadlineT_arr, index=[\"input\"], columns=['deadline_time_10am-12pm',\n",
    "                                                                      'deadline_time_10pm-12am',\n",
    "                                                                      'deadline_time_12am-2am',\n",
    "                                                                      'deadline_time_12pm-2pm',\n",
    "                                                                      'deadline_time_2am-4am',\n",
    "                                                                      'deadline_time_2pm-4pm',\n",
    "                                                                      'deadline_time_4am-6am',\n",
    "                                                                      'deadline_time_4pm-6pm',\n",
    "                                                                      'deadline_time_6am-8am',\n",
    "                                                                      'deadline_time_6pm-8pm',\n",
    "                                                                      'deadline_time_8am-10am',\n",
    "                                                                      'deadline_time_8pm-10pm'])\n",
    "                                                                            "
   ]
  },
  {
   "cell_type": "code",
   "execution_count": null,
   "metadata": {},
   "outputs": [],
   "source": [
    "df"
   ]
  },
  {
   "cell_type": "code",
   "execution_count": null,
   "metadata": {},
   "outputs": [],
   "source": [
    "df.dtypes"
   ]
  },
  {
   "cell_type": "code",
   "execution_count": null,
   "metadata": {},
   "outputs": [],
   "source": [
    "# make sure all the df's are merged and in correct order\n",
    "df = df.merge(df_cat,left_index=True, right_index=True)\n",
    "df = df.drop(columns=['category'])\n",
    "df = df.merge(df_country,left_index=True, right_index=True)\n",
    "df = df.drop(columns=['country'])\n",
    "df = df.merge(df_launchT,left_index=True, right_index=True)\n",
    "df = df.drop(columns=['launchTime'])\n",
    "df = df.merge(df_deadlineT,left_index=True, right_index=True)\n",
    "df = df.drop(columns=['deadlineTime'])\n",
    "df"
   ]
  },
  {
   "cell_type": "code",
   "execution_count": null,
   "metadata": {},
   "outputs": [],
   "source": [
    "pd.set_option('display.max_columns', None)\n",
    "df"
   ]
  },
  {
   "cell_type": "code",
   "execution_count": null,
   "metadata": {},
   "outputs": [],
   "source": [
    "#pickeld scaler\n",
    "scaler = pickle.load(open('scaler.pkl', 'rb'))"
   ]
  },
  {
   "cell_type": "code",
   "execution_count": null,
   "metadata": {},
   "outputs": [],
   "source": [
    "# Scale the data\n",
    "X_train_scaled = scaler.transform(df)\n",
    "\n",
    "pred = model.predict(X_train_scaled)\n",
    "pred"
   ]
  }
 ],
 "metadata": {
  "kernelspec": {
   "display_name": "Python 3",
   "language": "python",
   "name": "python3"
  },
  "language_info": {
   "codemirror_mode": {
    "name": "ipython",
    "version": 3
   },
   "file_extension": ".py",
   "mimetype": "text/x-python",
   "name": "python",
   "nbconvert_exporter": "python",
   "pygments_lexer": "ipython3",
   "version": "3.8.3"
  }
 },
 "nbformat": 4,
 "nbformat_minor": 4
}
